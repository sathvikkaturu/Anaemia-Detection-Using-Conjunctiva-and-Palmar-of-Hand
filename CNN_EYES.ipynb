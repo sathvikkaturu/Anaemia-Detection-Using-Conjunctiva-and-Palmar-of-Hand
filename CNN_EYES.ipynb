{
 "cells": [
  {
   "cell_type": "code",
   "execution_count": 1,
   "metadata": {
    "_cell_guid": "b1076dfc-b9ad-4769-8c92-a6c4dae69d19",
    "_uuid": "8f2839f25d086af736a60e9eeb907d3b93b6e0e5",
    "execution": {
     "iopub.execute_input": "2024-04-13T03:10:59.560953Z",
     "iopub.status.busy": "2024-04-13T03:10:59.560157Z",
     "iopub.status.idle": "2024-04-13T03:10:59.585746Z",
     "shell.execute_reply": "2024-04-13T03:10:59.584367Z",
     "shell.execute_reply.started": "2024-04-13T03:10:59.560919Z"
    }
   },
   "outputs": [],
   "source": [
    "# This Python 3 environment comes with many helpful analytics libraries installed\n",
    "# It is defined by the kaggle/python Docker image: https://github.com/kaggle/docker-python\n",
    "# For example, here's several helpful packages to load\n",
    "\n",
    "import numpy as np # linear algebra\n",
    "import pandas as pd # data processing, CSV file I/O (e.g. pd.read_csv)\n",
    "\n",
    "# Input data files are available in the read-only \"../input/\" directory\n",
    "# For example, running this (by clicking run or pressing Shift+Enter) will list all files under the input directory\n",
    "\n",
    "import os\n",
    "for dirname, _, filenames in os.walk('/kaggle/input'):\n",
    "    for filename in filenames:\n",
    "        print(os.path.join(dirname, filename))\n",
    "\n",
    "# You can write up to 20GB to the current directory (/kaggle/working/) that gets preserved as output when you create a version using \"Save & Run All\" \n",
    "# You can also write temporary files to /kaggle/temp/, but they won't be saved outside of the current session"
   ]
  },
  {
   "cell_type": "code",
   "execution_count": 2,
   "metadata": {
    "execution": {
     "iopub.execute_input": "2024-04-13T03:11:11.983009Z",
     "iopub.status.busy": "2024-04-13T03:11:11.982586Z",
     "iopub.status.idle": "2024-04-13T03:11:28.977814Z",
     "shell.execute_reply": "2024-04-13T03:11:28.976473Z",
     "shell.execute_reply.started": "2024-04-13T03:11:11.982974Z"
    }
   },
   "outputs": [],
   "source": [
    "import pandas as pd\n",
    "import numpy as np\n",
    "import os\n",
    "from PIL import Image\n",
    "from tqdm.notebook import tqdm\n",
    "from sklearn.utils import shuffle\n",
    "import matplotlib.pyplot as plt\n",
    "import seaborn as sns\n",
    "from keras.preprocessing.image import load_img\n",
    "import tensorflow as tf\n",
    "from tensorflow.keras import layers, models\n",
    "from sklearn.model_selection import train_test_split"
   ]
  },
  {
   "cell_type": "code",
   "execution_count": 18,
   "metadata": {
    "execution": {
     "iopub.execute_input": "2024-04-13T03:14:55.681231Z",
     "iopub.status.busy": "2024-04-13T03:14:55.680378Z",
     "iopub.status.idle": "2024-04-13T03:14:55.709752Z",
     "shell.execute_reply": "2024-04-13T03:14:55.708892Z",
     "shell.execute_reply.started": "2024-04-13T03:14:55.681182Z"
    }
   },
   "outputs": [
    {
     "name": "stderr",
     "output_type": "stream",
     "text": [
      "100%|██████████| 654/654 [00:00<00:00, 81936.64it/s]\n",
      "100%|██████████| 388/388 [00:00<00:00, 96563.81it/s]\n"
     ]
    }
   ],
   "source": [
    "import os\n",
    "import pandas as pd\n",
    "from tqdm import tqdm\n",
    "\n",
    "# Assuming your main dataset folder is named 'dataset' and it contains 'Final_Dataset_India' folder\n",
    "# main_dataset_path = 'Final_Dataset_India'\n",
    "\n",
    "# anemiapath = os.path.join('Final_Dataset_India', 'Anemic_jpeg')\n",
    "# nonanemiapath = os.path.join('Final_Dataset_India', 'Non_Anemic_jpeg')\n",
    "\n",
    "anemiapath = \"C:/Users/asus/Documents/Final_Dataset_India/Anemic_jpeg\"\n",
    "nonanemiapath = \"C:/Users/asus/Documents/Final_Dataset_India/Non_Anemic_jpeg\"\n",
    "\n",
    "anemia_image_paths = [os.path.join(anemiapath, filename) for filename in tqdm(os.listdir(anemiapath))]\n",
    "anemia_labels = [1] * len(anemia_image_paths)\n",
    "\n",
    "non_anemia_image_paths = [os.path.join(nonanemiapath, filename) for filename in tqdm(os.listdir(nonanemiapath))]\n",
    "non_anemia_labels = [0] * len(non_anemia_image_paths)\n",
    "\n",
    "image_paths = anemia_image_paths + non_anemia_image_paths\n",
    "labels = anemia_labels + non_anemia_labels\n",
    "\n",
    "df = pd.DataFrame({\"Image\": image_paths, \"Label\": labels})\n"
   ]
  },
  {
   "cell_type": "code",
   "execution_count": 19,
   "metadata": {
    "execution": {
     "iopub.execute_input": "2024-04-13T03:15:21.833260Z",
     "iopub.status.busy": "2024-04-13T03:15:21.832183Z",
     "iopub.status.idle": "2024-04-13T03:15:22.215390Z",
     "shell.execute_reply": "2024-04-13T03:15:22.214169Z",
     "shell.execute_reply.started": "2024-04-13T03:15:21.833214Z"
    }
   },
   "outputs": [
    {
     "data": {
      "text/plain": [
       "<matplotlib.image.AxesImage at 0x14bb3ab7d00>"
      ]
     },
     "execution_count": 19,
     "metadata": {},
     "output_type": "execute_result"
    },
    {
     "data": {
      "image/png": "[encoded data removed]",
      "text/plain": [
       "<Figure size 432x288 with 1 Axes>"
      ]
     },
     "metadata": {
      "needs_background": "light"
     },
     "output_type": "display_data"
    }
   ],
   "source": [
    "img = Image.open(df['Image'][1])\n",
    "plt.axis('off')\n",
    "plt.imshow(img)"
   ]
  },
  {
   "cell_type": "code",
   "execution_count": 20,
   "metadata": {
    "execution": {
     "iopub.execute_input": "2024-04-13T03:15:37.786380Z",
     "iopub.status.busy": "2024-04-13T03:15:37.785913Z",
     "iopub.status.idle": "2024-04-13T03:15:37.801410Z",
     "shell.execute_reply": "2024-04-13T03:15:37.800171Z",
     "shell.execute_reply.started": "2024-04-13T03:15:37.786350Z"
    }
   },
   "outputs": [],
   "source": [
    "x_train, x_test = train_test_split(df, test_size=0.2, random_state=42)"
   ]
  },
  {
   "cell_type": "code",
   "execution_count": 21,
   "metadata": {
    "execution": {
     "iopub.execute_input": "2024-04-13T03:15:45.966966Z",
     "iopub.status.busy": "2024-04-13T03:15:45.966563Z",
     "iopub.status.idle": "2024-04-13T03:15:45.974274Z",
     "shell.execute_reply": "2024-04-13T03:15:45.972925Z",
     "shell.execute_reply.started": "2024-04-13T03:15:45.966937Z"
    }
   },
   "outputs": [],
   "source": [
    "def extract_features(images):\n",
    "    features = []\n",
    "    for image in tqdm(images):\n",
    "        img = load_img(image)\n",
    "        img = img.resize((224,224), Image.LANCZOS)\n",
    "        img = np.array(img)\n",
    "        features.append(img)\n",
    "    features = np.array(features)\n",
    "    features = features.reshape(len(features),224,224,3)\n",
    "    return features"
   ]
  },
  {
   "cell_type": "code",
   "execution_count": 22,
   "metadata": {
    "execution": {
     "iopub.execute_input": "2024-04-13T03:17:02.714738Z",
     "iopub.status.busy": "2024-04-13T03:17:02.714343Z",
     "iopub.status.idle": "2024-04-13T03:17:20.147926Z",
     "shell.execute_reply": "2024-04-13T03:17:20.146368Z",
     "shell.execute_reply.started": "2024-04-13T03:17:02.714709Z"
    }
   },
   "outputs": [
    {
     "name": "stderr",
     "output_type": "stream",
     "text": [
      "100%|██████████| 833/833 [00:18<00:00, 44.76it/s]\n"
     ]
    }
   ],
   "source": [
    "x= extract_features(x_train['Image'])\n",
    "#normalization on the pixel values of the images\n",
    "x = x/255.0\n",
    "y = np.array(x_train['Label'])"
   ]
  },
  {
   "cell_type": "code",
   "execution_count": 23,
   "metadata": {
    "execution": {
     "iopub.execute_input": "2024-04-13T03:17:42.437174Z",
     "iopub.status.busy": "2024-04-13T03:17:42.436687Z",
     "iopub.status.idle": "2024-04-13T03:17:42.728424Z",
     "shell.execute_reply": "2024-04-13T03:17:42.727254Z",
     "shell.execute_reply.started": "2024-04-13T03:17:42.437137Z"
    }
   },
   "outputs": [
    {
     "name": "stderr",
     "output_type": "stream",
     "text": [
      "c:\\Users\\asus\\AppData\\Local\\Programs\\Python\\Python39\\lib\\site-packages\\keras\\src\\layers\\convolutional\\base_conv.py:99: UserWarning: Do not pass an `input_shape`/`input_dim` argument to a layer. When using Sequential models, prefer using an `Input(shape)` object as the first layer in the model instead.\n",
      "  super().__init__(\n"
     ]
    }
   ],
   "source": [
    "model = models.Sequential()\n",
    "model.add(layers.Conv2D(filters=32, kernel_size=(3,3), activation='relu', input_shape=(224, 224, 3)))\n",
    "model.add(layers.MaxPooling2D(pool_size =(2, 2)))\n",
    "model.add(layers.Conv2D(filters=64, kernel_size=(3,3), activation='relu'))\n",
    "model.add(layers.MaxPooling2D(pool_size =(2, 2)))\n",
    "model.add(layers.Conv2D(filters=128, kernel_size=(3,3), activation='relu'))\n",
    "model.add(layers.MaxPooling2D(pool_size =(2, 2)))\n",
    "model.add(layers.Conv2D(filters=256, kernel_size=(3,3), activation='relu'))\n",
    "model.add(layers.MaxPooling2D(pool_size =(2, 2)))\n",
    "model.add(layers.Flatten())\n",
    "model.add(layers.Dense(256, activation='relu'))\n",
    "model.add(layers.Dropout(0.3))\n",
    "model.add(layers.Dense(1, activation='sigmoid'))\n",
    "\n",
    "#Compile the model\n",
    "model.compile(optimizer='adam', loss='binary_crossentropy', metrics=['accuracy'])"
   ]
  },
  {
   "cell_type": "code",
   "execution_count": 24,
   "metadata": {
    "execution": {
     "iopub.execute_input": "2024-04-13T03:18:33.536916Z",
     "iopub.status.busy": "2024-04-13T03:18:33.536498Z",
     "iopub.status.idle": "2024-04-13T04:05:16.511634Z",
     "shell.execute_reply": "2024-04-13T04:05:16.510226Z",
     "shell.execute_reply.started": "2024-04-13T03:18:33.536882Z"
    }
   },
   "outputs": [
    {
     "name": "stdout",
     "output_type": "stream",
     "text": [
      "Epoch 1/40\n",
      "\u001b[1m21/21\u001b[0m \u001b[32m━━━━━━━━━━━━━━━━━━━━\u001b[0m\u001b[37m\u001b[0m \u001b[1m30s\u001b[0m 1s/step - accuracy: 0.6251 - loss: 0.6918 - val_accuracy: 0.6048 - val_loss: 0.6607\n",
      "Epoch 2/40\n",
      "\u001b[1m21/21\u001b[0m \u001b[32m━━━━━━━━━━━━━━━━━━━━\u001b[0m\u001b[37m\u001b[0m \u001b[1m23s\u001b[0m 1s/step - accuracy: 0.6356 - loss: 0.6508 - val_accuracy: 0.6347 - val_loss: 0.6438\n",
      "Epoch 3/40\n",
      "\u001b[1m21/21\u001b[0m \u001b[32m━━━━━━━━━━━━━━━━━━━━\u001b[0m\u001b[37m\u001b[0m \u001b[1m22s\u001b[0m 1s/step - accuracy: 0.6625 - loss: 0.6243 - val_accuracy: 0.6407 - val_loss: 0.6254\n",
      "Epoch 4/40\n",
      "\u001b[1m21/21\u001b[0m \u001b[32m━━━━━━━━━━━━━━━━━━━━\u001b[0m\u001b[37m\u001b[0m \u001b[1m21s\u001b[0m 1s/step - accuracy: 0.6983 - loss: 0.5495 - val_accuracy: 0.6707 - val_loss: 0.5923\n",
      "Epoch 5/40\n",
      "\u001b[1m21/21\u001b[0m \u001b[32m━━━━━━━━━━━━━━━━━━━━\u001b[0m\u001b[37m\u001b[0m \u001b[1m22s\u001b[0m 1s/step - accuracy: 0.7172 - loss: 0.5076 - val_accuracy: 0.6766 - val_loss: 0.5841\n",
      "Epoch 6/40\n",
      "\u001b[1m21/21\u001b[0m \u001b[32m━━━━━━━━━━━━━━━━━━━━\u001b[0m\u001b[37m\u001b[0m \u001b[1m22s\u001b[0m 1s/step - accuracy: 0.7844 - loss: 0.4543 - val_accuracy: 0.7605 - val_loss: 0.5497\n",
      "Epoch 7/40\n",
      "\u001b[1m21/21\u001b[0m \u001b[32m━━━━━━━━━━━━━━━━━━━━\u001b[0m\u001b[37m\u001b[0m \u001b[1m21s\u001b[0m 1s/step - accuracy: 0.8624 - loss: 0.3526 - val_accuracy: 0.7665 - val_loss: 0.6095\n",
      "Epoch 8/40\n",
      "\u001b[1m21/21\u001b[0m \u001b[32m━━━━━━━━━━━━━━━━━━━━\u001b[0m\u001b[37m\u001b[0m \u001b[1m21s\u001b[0m 1s/step - accuracy: 0.9075 - loss: 0.2126 - val_accuracy: 0.7665 - val_loss: 0.5173\n",
      "Epoch 9/40\n",
      "\u001b[1m21/21\u001b[0m \u001b[32m━━━━━━━━━━━━━━━━━━━━\u001b[0m\u001b[37m\u001b[0m \u001b[1m21s\u001b[0m 1s/step - accuracy: 0.9557 - loss: 0.1511 - val_accuracy: 0.8144 - val_loss: 0.7310\n",
      "Epoch 10/40\n",
      "\u001b[1m21/21\u001b[0m \u001b[32m━━━━━━━━━━━━━━━━━━━━\u001b[0m\u001b[37m\u001b[0m \u001b[1m21s\u001b[0m 1s/step - accuracy: 0.9502 - loss: 0.0970 - val_accuracy: 0.8623 - val_loss: 0.5970\n",
      "Epoch 11/40\n",
      "\u001b[1m21/21\u001b[0m \u001b[32m━━━━━━━━━━━━━━━━━━━━\u001b[0m\u001b[37m\u001b[0m \u001b[1m22s\u001b[0m 1s/step - accuracy: 0.9687 - loss: 0.0810 - val_accuracy: 0.8922 - val_loss: 0.5394\n",
      "Epoch 12/40\n",
      "\u001b[1m21/21\u001b[0m \u001b[32m━━━━━━━━━━━━━━━━━━━━\u001b[0m\u001b[37m\u001b[0m \u001b[1m22s\u001b[0m 1s/step - accuracy: 0.9923 - loss: 0.0424 - val_accuracy: 0.8802 - val_loss: 0.7132\n",
      "Epoch 13/40\n",
      "\u001b[1m21/21\u001b[0m \u001b[32m━━━━━━━━━━━━━━━━━━━━\u001b[0m\u001b[37m\u001b[0m \u001b[1m21s\u001b[0m 1s/step - accuracy: 0.9704 - loss: 0.0659 - val_accuracy: 0.8982 - val_loss: 0.6289\n",
      "Epoch 14/40\n",
      "\u001b[1m21/21\u001b[0m \u001b[32m━━━━━━━━━━━━━━━━━━━━\u001b[0m\u001b[37m\u001b[0m \u001b[1m21s\u001b[0m 1s/step - accuracy: 0.9884 - loss: 0.0373 - val_accuracy: 0.8383 - val_loss: 1.1299\n",
      "Epoch 15/40\n",
      "\u001b[1m21/21\u001b[0m \u001b[32m━━━━━━━━━━━━━━━━━━━━\u001b[0m\u001b[37m\u001b[0m \u001b[1m21s\u001b[0m 1s/step - accuracy: 0.9752 - loss: 0.0760 - val_accuracy: 0.8623 - val_loss: 0.8854\n",
      "Epoch 16/40\n",
      "\u001b[1m21/21\u001b[0m \u001b[32m━━━━━━━━━━━━━━━━━━━━\u001b[0m\u001b[37m\u001b[0m \u001b[1m21s\u001b[0m 1s/step - accuracy: 0.9702 - loss: 0.0720 - val_accuracy: 0.9102 - val_loss: 0.6376\n",
      "Epoch 17/40\n",
      "\u001b[1m21/21\u001b[0m \u001b[32m━━━━━━━━━━━━━━━━━━━━\u001b[0m\u001b[37m\u001b[0m \u001b[1m21s\u001b[0m 1s/step - accuracy: 0.9989 - loss: 0.0081 - val_accuracy: 0.9042 - val_loss: 0.7094\n",
      "Epoch 18/40\n",
      "\u001b[1m21/21\u001b[0m \u001b[32m━━━━━━━━━━━━━━━━━━━━\u001b[0m\u001b[37m\u001b[0m \u001b[1m21s\u001b[0m 1s/step - accuracy: 1.0000 - loss: 0.0037 - val_accuracy: 0.9102 - val_loss: 0.7134\n",
      "Epoch 19/40\n",
      "\u001b[1m21/21\u001b[0m \u001b[32m━━━━━━━━━━━━━━━━━━━━\u001b[0m\u001b[37m\u001b[0m \u001b[1m23s\u001b[0m 1s/step - accuracy: 0.9995 - loss: 0.0029 - val_accuracy: 0.8982 - val_loss: 0.7001\n",
      "Epoch 20/40\n",
      "\u001b[1m21/21\u001b[0m \u001b[32m━━━━━━━━━━━━━━━━━━━━\u001b[0m\u001b[37m\u001b[0m \u001b[1m21s\u001b[0m 1s/step - accuracy: 0.9988 - loss: 0.0047 - val_accuracy: 0.9102 - val_loss: 1.1910\n",
      "Epoch 21/40\n",
      "\u001b[1m21/21\u001b[0m \u001b[32m━━━━━━━━━━━━━━━━━━━━\u001b[0m\u001b[37m\u001b[0m \u001b[1m22s\u001b[0m 1s/step - accuracy: 1.0000 - loss: 0.0016 - val_accuracy: 0.9162 - val_loss: 0.9964\n",
      "Epoch 22/40\n",
      "\u001b[1m21/21\u001b[0m \u001b[32m━━━━━━━━━━━━━━━━━━━━\u001b[0m\u001b[37m\u001b[0m \u001b[1m21s\u001b[0m 1s/step - accuracy: 1.0000 - loss: 7.0965e-04 - val_accuracy: 0.9222 - val_loss: 1.1389\n",
      "Epoch 23/40\n",
      "\u001b[1m21/21\u001b[0m \u001b[32m━━━━━━━━━━━━━━━━━━━━\u001b[0m\u001b[37m\u001b[0m \u001b[1m21s\u001b[0m 1s/step - accuracy: 1.0000 - loss: 7.9303e-04 - val_accuracy: 0.9102 - val_loss: 0.9871\n",
      "Epoch 24/40\n",
      "\u001b[1m21/21\u001b[0m \u001b[32m━━━━━━━━━━━━━━━━━━━━\u001b[0m\u001b[37m\u001b[0m \u001b[1m21s\u001b[0m 1s/step - accuracy: 1.0000 - loss: 0.0016 - val_accuracy: 0.9281 - val_loss: 1.0732\n",
      "Epoch 25/40\n",
      "\u001b[1m21/21\u001b[0m \u001b[32m━━━━━━━━━━━━━━━━━━━━\u001b[0m\u001b[37m\u001b[0m \u001b[1m21s\u001b[0m 1s/step - accuracy: 1.0000 - loss: 6.7881e-04 - val_accuracy: 0.9222 - val_loss: 0.9696\n",
      "Epoch 26/40\n",
      "\u001b[1m21/21\u001b[0m \u001b[32m━━━━━━━━━━━━━━━━━━━━\u001b[0m\u001b[37m\u001b[0m \u001b[1m21s\u001b[0m 1s/step - accuracy: 1.0000 - loss: 5.4827e-04 - val_accuracy: 0.9222 - val_loss: 1.0464\n",
      "Epoch 27/40\n",
      "\u001b[1m21/21\u001b[0m \u001b[32m━━━━━━━━━━━━━━━━━━━━\u001b[0m\u001b[37m\u001b[0m \u001b[1m21s\u001b[0m 1s/step - accuracy: 1.0000 - loss: 6.6488e-04 - val_accuracy: 0.9281 - val_loss: 0.9800\n",
      "Epoch 28/40\n",
      "\u001b[1m21/21\u001b[0m \u001b[32m━━━━━━━━━━━━━━━━━━━━\u001b[0m\u001b[37m\u001b[0m \u001b[1m21s\u001b[0m 1s/step - accuracy: 1.0000 - loss: 8.9854e-05 - val_accuracy: 0.9222 - val_loss: 0.9369\n",
      "Epoch 29/40\n",
      "\u001b[1m21/21\u001b[0m \u001b[32m━━━━━━━━━━━━━━━━━━━━\u001b[0m\u001b[37m\u001b[0m \u001b[1m23s\u001b[0m 1s/step - accuracy: 1.0000 - loss: 1.6732e-04 - val_accuracy: 0.9222 - val_loss: 0.9647\n",
      "Epoch 30/40\n",
      "\u001b[1m21/21\u001b[0m \u001b[32m━━━━━━━━━━━━━━━━━━━━\u001b[0m\u001b[37m\u001b[0m \u001b[1m21s\u001b[0m 1s/step - accuracy: 1.0000 - loss: 3.3618e-04 - val_accuracy: 0.9222 - val_loss: 1.0733\n",
      "Epoch 31/40\n",
      "\u001b[1m21/21\u001b[0m \u001b[32m━━━━━━━━━━━━━━━━━━━━\u001b[0m\u001b[37m\u001b[0m \u001b[1m21s\u001b[0m 1s/step - accuracy: 1.0000 - loss: 7.1777e-05 - val_accuracy: 0.9102 - val_loss: 1.0086\n",
      "Epoch 32/40\n",
      "\u001b[1m21/21\u001b[0m \u001b[32m━━━━━━━━━━━━━━━━━━━━\u001b[0m\u001b[37m\u001b[0m \u001b[1m21s\u001b[0m 1s/step - accuracy: 1.0000 - loss: 1.1462e-04 - val_accuracy: 0.9222 - val_loss: 1.0480\n",
      "Epoch 33/40\n",
      "\u001b[1m21/21\u001b[0m \u001b[32m━━━━━━━━━━━━━━━━━━━━\u001b[0m\u001b[37m\u001b[0m \u001b[1m21s\u001b[0m 1s/step - accuracy: 1.0000 - loss: 9.9940e-05 - val_accuracy: 0.9281 - val_loss: 1.0800\n",
      "Epoch 34/40\n",
      "\u001b[1m21/21\u001b[0m \u001b[32m━━━━━━━━━━━━━━━━━━━━\u001b[0m\u001b[37m\u001b[0m \u001b[1m21s\u001b[0m 999ms/step - accuracy: 1.0000 - loss: 1.3289e-04 - val_accuracy: 0.9341 - val_loss: 1.0664\n",
      "Epoch 35/40\n",
      "\u001b[1m21/21\u001b[0m \u001b[32m━━━━━━━━━━━━━━━━━━━━\u001b[0m\u001b[37m\u001b[0m \u001b[1m21s\u001b[0m 992ms/step - accuracy: 1.0000 - loss: 5.5226e-05 - val_accuracy: 0.9341 - val_loss: 1.0525\n",
      "Epoch 36/40\n",
      "\u001b[1m21/21\u001b[0m \u001b[32m━━━━━━━━━━━━━━━━━━━━\u001b[0m\u001b[37m\u001b[0m \u001b[1m21s\u001b[0m 1s/step - accuracy: 1.0000 - loss: 6.2660e-05 - val_accuracy: 0.9341 - val_loss: 1.0613\n",
      "Epoch 37/40\n",
      "\u001b[1m21/21\u001b[0m \u001b[32m━━━━━━━━━━━━━━━━━━━━\u001b[0m\u001b[37m\u001b[0m \u001b[1m21s\u001b[0m 996ms/step - accuracy: 1.0000 - loss: 1.0683e-04 - val_accuracy: 0.9341 - val_loss: 1.0775\n",
      "Epoch 38/40\n",
      "\u001b[1m21/21\u001b[0m \u001b[32m━━━━━━━━━━━━━━━━━━━━\u001b[0m\u001b[37m\u001b[0m \u001b[1m21s\u001b[0m 1s/step - accuracy: 1.0000 - loss: 3.7254e-04 - val_accuracy: 0.9341 - val_loss: 0.9627\n",
      "Epoch 39/40\n",
      "\u001b[1m21/21\u001b[0m \u001b[32m━━━━━━━━━━━━━━━━━━━━\u001b[0m\u001b[37m\u001b[0m \u001b[1m21s\u001b[0m 993ms/step - accuracy: 1.0000 - loss: 2.1192e-04 - val_accuracy: 0.9222 - val_loss: 1.3374\n",
      "Epoch 40/40\n",
      "\u001b[1m21/21\u001b[0m \u001b[32m━━━━━━━━━━━━━━━━━━━━\u001b[0m\u001b[37m\u001b[0m \u001b[1m21s\u001b[0m 997ms/step - accuracy: 0.9991 - loss: 0.0029 - val_accuracy: 0.8323 - val_loss: 1.1064\n"
     ]
    }
   ],
   "source": [
    "#Training the model\n",
    "history = model.fit(x=x, y=y,batch_size = 32,epochs = 40, validation_split = 0.2)"
   ]
  },
  {
   "cell_type": "code",
   "execution_count": 25,
   "metadata": {
    "execution": {
     "iopub.execute_input": "2024-04-13T04:07:57.221983Z",
     "iopub.status.busy": "2024-04-13T04:07:57.220796Z",
     "iopub.status.idle": "2024-04-13T04:07:57.560496Z",
     "shell.execute_reply": "2024-04-13T04:07:57.558843Z",
     "shell.execute_reply.started": "2024-04-13T04:07:57.221944Z"
    }
   },
   "outputs": [
    {
     "name": "stderr",
     "output_type": "stream",
     "text": [
      "WARNING:absl:You are saving your model as an HDF5 file via `model.save()` or `keras.saving.save_model(model)`. This file format is considered legacy. We recommend using instead the native Keras format, e.g. `model.save('my_model.keras')` or `keras.saving.save_model(model, 'my_model.keras')`. \n"
     ]
    }
   ],
   "source": [
    "model.save(\"anemia_model.h5\")"
   ]
  },
  {
   "cell_type": "code",
   "execution_count": 28,
   "metadata": {
    "execution": {
     "iopub.execute_input": "2024-04-13T05:18:08.297389Z",
     "iopub.status.busy": "2024-04-13T05:18:08.296136Z",
     "iopub.status.idle": "2024-04-13T05:18:11.234905Z",
     "shell.execute_reply": "2024-04-13T05:18:11.233638Z",
     "shell.execute_reply.started": "2024-04-13T05:18:08.297350Z"
    }
   },
   "outputs": [
    {
     "name": "stderr",
     "output_type": "stream",
     "text": [
      "WARNING:absl:Compiled the loaded model, but the compiled metrics have yet to be built. `model.compile_metrics` will be empty until you train or evaluate the model.\n"
     ]
    },
    {
     "name": "stdout",
     "output_type": "stream",
     "text": [
      "\u001b[1m1/1\u001b[0m \u001b[32m━━━━━━━━━━━━━━━━━━━━\u001b[0m\u001b[37m\u001b[0m \u001b[1m0s\u001b[0m 137ms/step\n",
      "Prediction: [[0.9898641]]\n",
      "Anemia Detected\n"
     ]
    }
   ],
   "source": [
    "import numpy as np\n",
    "from PIL import Image\n",
    "from tensorflow.keras.preprocessing.image import img_to_array\n",
    "from tensorflow.keras.models import load_model\n",
    "\n",
    "def anemia_detection(image_path):\n",
    "    # Load the pre-trained model\n",
    "    model = load_model('anemia_model.h5')  # Update with the path to your trained model\n",
    "    \n",
    "    img = Image.open(image_path).resize((224, 224))\n",
    "    img_array = img_to_array(img) / 255.0\n",
    "    img_array = np.expand_dims(img_array, axis=0)\n",
    "\n",
    "    prediction = model.predict(img_array)\n",
    "    print(f'Prediction: {prediction}')\n",
    "    \n",
    "    threshold = 0.5\n",
    "    prediction_classes = 1 if prediction[0][0] > threshold else 0\n",
    "\n",
    "    return prediction_classes\n",
    "\n",
    "def main(image_path):\n",
    "    predict = anemia_detection(image_path)\n",
    "    \n",
    "    if predict == 0:\n",
    "        print(\"No Anemia Detected\")\n",
    "    elif predict == 1:\n",
    "        print(\"Anemia Detected\")\n",
    "\n",
    "if __name__ == \"__main__\":\n",
    "    image_path = input(\"Enter the path of the image: \")\n",
    "    main(image_path)\n"
   ]
  },
  {
   "cell_type": "code",
   "execution_count": 29,
   "metadata": {
    "execution": {
     "iopub.execute_input": "2024-04-13T05:33:04.581948Z",
     "iopub.status.busy": "2024-04-13T05:33:04.581454Z",
     "iopub.status.idle": "2024-04-13T05:33:04.598632Z",
     "shell.execute_reply": "2024-04-13T05:33:04.596818Z",
     "shell.execute_reply.started": "2024-04-13T05:33:04.581912Z"
    }
   },
   "outputs": [
    {
     "data": {
      "text/html": [
       "\n",
       "<!DOCTYPE html>\n",
       "<html>\n",
       "<head>\n",
       "<title>Anemia Detection</title>\n",
       "</head>\n",
       "<body>\n",
       "\n",
       "<h2>Upload an Image</h2>\n",
       "<input type=\"file\" id=\"fileUpload\" accept=\"image/*\">\n",
       "<button onclick=\"classifyImage()\">Classify Image</button>\n",
       "\n",
       "<h2>Prediction</h2>\n",
       "<p id=\"prediction\"></p>\n",
       "\n",
       "<script>\n",
       "// Function to handle image upload and classification\n",
       "function classifyImage() {\n",
       "  var fileUpload = document.getElementById(\"fileUpload\");\n",
       "  var file = fileUpload.files[0];\n",
       "  var reader = new FileReader();\n",
       "  reader.onload = function(e) {\n",
       "    processImage(e.target.result);\n",
       "  }\n",
       "  reader.readAsDataURL(file);\n",
       "}\n",
       "\n",
       "// Function to display prediction\n",
       "function displayPrediction(prediction) {\n",
       "  var predictionText = (prediction == 0) ? \"No Anemia Detected\" : \"Anemia Detected\";\n",
       "  document.getElementById(\"prediction\").innerText = predictionText;\n",
       "  console.log(predictionText); // Print prediction to the console\n",
       "}\n",
       "\n",
       "// Function to process the image data\n",
       "function processImage(imageData) {\n",
       "  google.colab.kernel.invokeFunction('anemia_detection', [imageData], {}, displayPrediction);\n",
       "}\n",
       "\n",
       "</script>\n",
       "\n",
       "</body>\n",
       "</html>\n"
      ],
      "text/plain": [
       "<IPython.core.display.HTML object>"
      ]
     },
     "metadata": {},
     "output_type": "display_data"
    }
   ],
   "source": [
    "from IPython.display import display, HTML\n",
    "import io\n",
    "from PIL import Image\n",
    "import numpy as np\n",
    "from tensorflow.keras.preprocessing.image import img_to_array\n",
    "from tensorflow.keras.models import load_model\n",
    "\n",
    "# Function to detect anemia in the uploaded image\n",
    "def anemia_detection(image_data):\n",
    "    # Load the pre-trained model\n",
    "    model = load_model('anemia_model.h5')  # Update with the path to your trained model\n",
    "    \n",
    "    # Convert image data to PIL Image\n",
    "    img = Image.open(io.BytesIO(image_data))\n",
    "    img = img.resize((224, 224))  # Resize image to match model input size\n",
    "    img_array = img_to_array(img) / 255.0  # Convert image to array and normalize\n",
    "    \n",
    "    # Expand dimensions to match model input shape\n",
    "    img_array = np.expand_dims(img_array, axis=0)\n",
    "\n",
    "    # Make prediction\n",
    "    prediction = model.predict(img_array)\n",
    "    \n",
    "    # Determine prediction class based on threshold\n",
    "    threshold = 0.5\n",
    "    prediction_classes = 1 if prediction[0][0] > threshold else 0\n",
    "\n",
    "    return prediction_classes\n",
    "\n",
    "# HTML code for the form\n",
    "html = \"\"\"\n",
    "<!DOCTYPE html>\n",
    "<html>\n",
    "<head>\n",
    "<title>Anemia Detection</title>\n",
    "</head>\n",
    "<body>\n",
    "\n",
    "<h2>Upload an Image</h2>\n",
    "<input type=\"file\" id=\"fileUpload\" accept=\"image/*\">\n",
    "<button onclick=\"classifyImage()\">Classify Image</button>\n",
    "\n",
    "<h2>Prediction</h2>\n",
    "<p id=\"prediction\"></p>\n",
    "\n",
    "<script>\n",
    "// Function to handle image upload and classification\n",
    "function classifyImage() {\n",
    "  var fileUpload = document.getElementById(\"fileUpload\");\n",
    "  var file = fileUpload.files[0];\n",
    "  var reader = new FileReader();\n",
    "  reader.onload = function(e) {\n",
    "    processImage(e.target.result);\n",
    "  }\n",
    "  reader.readAsDataURL(file);\n",
    "}\n",
    "\n",
    "// Function to display prediction\n",
    "function displayPrediction(prediction) {\n",
    "  var predictionText = (prediction == 0) ? \"No Anemia Detected\" : \"Anemia Detected\";\n",
    "  document.getElementById(\"prediction\").innerText = predictionText;\n",
    "  console.log(predictionText); // Print prediction to the console\n",
    "}\n",
    "\n",
    "// Function to process the image data\n",
    "function processImage(imageData) {\n",
    "  google.colab.kernel.invokeFunction('anemia_detection', [imageData], {}, displayPrediction);\n",
    "}\n",
    "\n",
    "</script>\n",
    "\n",
    "</body>\n",
    "</html>\n",
    "\"\"\"\n",
    "\n",
    "# Display the HTML form\n",
    "display(HTML(html))\n"
   ]
  },
  {
   "cell_type": "code",
   "execution_count": null,
   "metadata": {},
   "outputs": [],
   "source": []
  }
 ],
 "metadata": {
  "kaggle": {
   "accelerator": "none",
   "dataSources": [
    {
     "datasetId": 4786562,
     "sourceId": 8104597,
     "sourceType": "datasetVersion"
    },
    {
     "datasetId": 4786829,
     "sourceId": 8104964,
     "sourceType": "datasetVersion"
    },
    {
     "datasetId": 4786969,
     "sourceId": 8105158,
     "sourceType": "datasetVersion"
    }
   ],
   "dockerImageVersionId": 30684,
   "isGpuEnabled": false,
   "isInternetEnabled": false,
   "language": "python",
   "sourceType": "notebook"
  },
  "kernelspec": {
   "display_name": "Python 3 (ipykernel)",
   "language": "python",
   "name": "python3"
  },
  "language_info": {
   "codemirror_mode": {
    "name": "ipython",
    "version": 3
   },
   "file_extension": ".py",
   "mimetype": "text/x-python",
   "name": "python",
   "nbconvert_exporter": "python",
   "pygments_lexer": "ipython3",
   "version": "3.12.2"
  }
 },
 "nbformat": 4,
 "nbformat_minor": 4
}
